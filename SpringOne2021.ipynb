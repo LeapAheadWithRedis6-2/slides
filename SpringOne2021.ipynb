{
 "cells": [
  {
   "cell_type": "markdown",
   "metadata": {
    "slideshow": {
     "slide_type": "slide"
    }
   },
   "source": [
    "## Leap Ahead with Redis 6.2"
   ]
  },
  {
   "cell_type": "markdown",
   "metadata": {
    "slideshow": {
     "slide_type": "slide"
    }
   },
   "source": [
    "## Brian Sam-Bodden\n",
    "\n",
    "- Developer Advocate at Redis\n",
    "- @bsbodden on (Twitter|GitHub|GitLab|LinkedIn)\n",
    "- Technologist\n",
    "- Entrepreneur\n",
    "- Author\n",
    "- Teacher, and Student\n",
    "- Aims to push the envelope of technology and fill the world with better, more passionate programmers.\n",
    "- Brings vision and energy, and willingness to start at the beginning."
   ]
  },
  {
   "cell_type": "markdown",
   "metadata": {
    "slideshow": {
     "slide_type": "slide"
    }
   },
   "source": [
    "## DaShaun Carter\n",
    "\n",
    "- 319 days as Partner Solution Architect, Redis\n",
    "- @dashaun on (Twitter|GitHub|GitLab|LinkedIn)\n",
    "- A husband, father of four, volunteer and struggling athlete.\n",
    "- Deliberately practicing to build better software, faster.\n",
    "- Generalist.\n",
    "- Computer Science. MBA.\n",
    "- Continuously learning.\n",
    "- Believes that every rep counts.\n",
    "- Doesn't have anything figured out.\n",
    "- Trying to get a little better every day.\n",
    "- Understanding in order to be understood."
   ]
  },
  {
   "cell_type": "markdown",
   "metadata": {
    "slideshow": {
     "slide_type": "slide"
    }
   },
   "source": [
    "### Redis"
   ]
  },
  {
   "cell_type": "markdown",
   "metadata": {
    "slideshow": {
     "slide_type": "fragment"
    }
   },
   "source": [
    "- The \"Most Loved\" database in StackOverflow's Developer Survey\n",
    "- For the 5th year in a row\n",
    "- Data stored in memory, not on disk\n",
    "- < 1m latency\n",
    "- 162 clients in 50 different languages"
   ]
  },
  {
   "cell_type": "markdown",
   "metadata": {
    "slideshow": {
     "slide_type": "slide"
    }
   },
   "source": [
    "### Redis OSS 6.2\n",
    "#### The Community Edition"
   ]
  },
  {
   "cell_type": "markdown",
   "metadata": {
    "slideshow": {
     "slide_type": "fragment"
    }
   },
   "source": [
    "- 6.2 was driven by the community\n",
    "- Loads of community contributed features\n",
    "- 15 new commands\n",
    "- 5 commands changed\n",
    "- 8 commands deprecated"
   ]
  },
  {
   "cell_type": "markdown",
   "metadata": {
    "slideshow": {
     "slide_type": "slide"
    }
   },
   "source": [
    "### Spring Data"
   ]
  },
  {
   "cell_type": "markdown",
   "metadata": {
    "slideshow": {
     "slide_type": "slide"
    }
   },
   "source": [
    "### Spring Data Redis"
   ]
  },
  {
   "cell_type": "markdown",
   "metadata": {
    "slideshow": {
     "slide_type": "slide"
    }
   },
   "source": [
    "#### String : ValueOperations\n",
    "\n",
    "SET -> set"
   ]
  },
  {
   "cell_type": "code",
   "execution_count": null,
   "metadata": {
    "slideshow": {
     "slide_type": "subslide"
    }
   },
   "outputs": [],
   "source": [
    "redis-cli set leapaheadkey leapaheadvalue"
   ]
  },
  {
   "cell_type": "markdown",
   "metadata": {
    "slideshow": {
     "slide_type": "subslide"
    }
   },
   "source": [
    "```java\n",
    "@Component\n",
    "class Set implements Function<KeyValue, String> {\n",
    "\tprivate final StringRedisTemplate redisTemplate;\n",
    "\tpublic ValueSet(StringRedisTemplate redisTemplate){\n",
    "\t\tthis.redisTemplate = redisTemplate;\n",
    "\t}\n",
    "\t@Override\n",
    "\tpublic String apply(KeyValue input) {\n",
    "\t\tredisTemplate.opsForValue().set(input.getKey(), input.getValue());\n",
    "\t\treturn \"OK\";\n",
    "\t}\n",
    "}\n",
    "```"
   ]
  },
  {
   "cell_type": "code",
   "execution_count": null,
   "metadata": {
    "slideshow": {
     "slide_type": "subslide"
    }
   },
   "outputs": [],
   "source": [
    "curl -H \"Content-Type: application/json\" localhost:8080/set -d '{\"key\":\"leapahead-string\",\"value\":\"Spring Cloud Function\"}'"
   ]
  },
  {
   "cell_type": "markdown",
   "metadata": {
    "slideshow": {
     "slide_type": "slide"
    }
   },
   "source": [
    "### String\n",
    "\n",
    "GET -> get"
   ]
  },
  {
   "cell_type": "code",
   "execution_count": null,
   "metadata": {
    "slideshow": {
     "slide_type": "subslide"
    }
   },
   "outputs": [],
   "source": [
    "redis-cli get leapaheadkey"
   ]
  },
  {
   "cell_type": "markdown",
   "metadata": {
    "slideshow": {
     "slide_type": "subslide"
    }
   },
   "source": [
    "```java\n",
    "@Component\n",
    "class Get implements Function<String, String> {\n",
    "\tprivate final StringRedisTemplate redisTemplate;\n",
    "\tpublic ValueGet(StringRedisTemplate redisTemplate){\n",
    "\t\tthis.redisTemplate = redisTemplate;\n",
    "\t}\n",
    "\t@Override\n",
    "\tpublic String apply(String input) {\n",
    "\t\treturn redisTemplate.opsForValue().get(input);\n",
    "\t}\n",
    "}\n",
    "```"
   ]
  },
  {
   "cell_type": "code",
   "execution_count": null,
   "metadata": {},
   "outputs": [],
   "source": [
    "curl -H \"Content-Type: text/plain\" localhost:8080/get -d 'leapaheadkey'"
   ]
  },
  {
   "cell_type": "markdown",
   "metadata": {
    "slideshow": {
     "slide_type": "slide"
    }
   },
   "source": [
    "#### String : ValueOperations\n",
    "\n",
    "GETSET -> getAndSet"
   ]
  },
  {
   "cell_type": "code",
   "execution_count": null,
   "metadata": {
    "slideshow": {
     "slide_type": "subslide"
    }
   },
   "outputs": [],
   "source": [
    "redis-cli set leapaheadkey leapaheadvalue\n",
    "redis-cli get leapaheadkey\n",
    "redis-cli getset leapaheadkey updatedvalue\n",
    "redis-cli getset leapaheadkey anotherupdatedvalue\n",
    "redis-cli get leapaheadkey"
   ]
  },
  {
   "cell_type": "markdown",
   "metadata": {
    "slideshow": {
     "slide_type": "subslide"
    }
   },
   "source": [
    "```java\n",
    "@Component\n",
    "class GetAndSet implements Function<KeyValue, String> {\n",
    "\tprivate final StringRedisTemplate redisTemplate;\n",
    "\tpublic GetAndSet(StringRedisTemplate redisTemplate){\n",
    "\t\tthis.redisTemplate = redisTemplate;\n",
    "\t}\n",
    "\t@Override\n",
    "\tpublic String apply(KeyValue input) {\n",
    "\t\treturn redisTemplate.opsForValue().getAndSet(input.getKey(), input.getValue());\n",
    "\t}\n",
    "}\n",
    "```"
   ]
  },
  {
   "cell_type": "code",
   "execution_count": null,
   "metadata": {
    "slideshow": {
     "slide_type": "subslide"
    }
   },
   "outputs": [],
   "source": [
    "curl -H \"Content-Type: application/json\" localhost:8080/set -d '{\"key\":\"leapahead-string\",\"value\":\"Spring Cloud Function\"}'\n",
    "echo ''\n",
    "curl -H \"Content-Type: application/json\" localhost:8080/getAndSet -d '{\"key\":\"leapahead-string\",\"value\":\"This is so cool!\"}'\n",
    "echo ''\n",
    "curl -H \"Content-Type: text/plain\" localhost:8080/get -d 'leapahead-string'"
   ]
  },
  {
   "cell_type": "markdown",
   "metadata": {
    "slideshow": {
     "slide_type": "slide"
    }
   },
   "source": [
    "#### String : ValueOperations\n",
    "\n",
    "GETEX -> getAndExpire"
   ]
  },
  {
   "cell_type": "code",
   "execution_count": 8,
   "metadata": {},
   "outputs": [
    {
     "name": "stdout",
     "output_type": "stream",
     "text": [
      "OK\n",
      "\"This message should self destruct in 3 seconds\"\n",
      "(integer) 2\n",
      "(nil)\n"
     ]
    }
   ],
   "source": [
    "redis-cli set leapaheadkey 'This message should self destruct in 3 seconds'\n",
    "redis-cli getex leapaheadkey ex 3\n",
    "sleep 1\n",
    "redis-cli ttl leapaheadkey\n",
    "sleep 2\n",
    "redis-cli get leapaheadkey"
   ]
  },
  {
   "cell_type": "markdown",
   "metadata": {
    "slideshow": {
     "slide_type": "subslide"
    }
   },
   "source": [
    "```java\n",
    "@Component\n",
    "class GetEx implements Function<KeyValue, String> {\n",
    "\tprivate final StringRedisTemplate redisTemplate;\n",
    "\tpublic GetEx(StringRedisTemplate redisTemplate){\n",
    "\t\tthis.redisTemplate = redisTemplate;\n",
    "\t}\n",
    "\t@Override\n",
    "\tpublic String apply(KeyValue input) {\n",
    "\t\tDuration t = Duration.ofSeconds(Long.parseLong(input.getValue()));\n",
    "\t\treturn redisTemplate\n",
    "\t\t\t\t.opsForValue()\n",
    "\t\t\t\t.getAndExpire(input.getKey(), t);\n",
    "\t}\n",
    "}\n",
    "```"
   ]
  },
  {
   "cell_type": "code",
   "execution_count": 4,
   "metadata": {
    "slideshow": {
     "slide_type": "subslide"
    }
   },
   "outputs": [
    {
     "name": "stdout",
     "output_type": "stream",
     "text": [
      "OK\n",
      "Self-Destructing\n",
      "{\"timestamp\":\"2021-09-01T22:31:33.074+00:00\",\"path\":\"/get\",\"status\":500,\"error\":\"Internal Server Error\",\"requestId\":\"f90f5244-1\"}"
     ]
    }
   ],
   "source": [
    "curl -H \"Content-Type: application/json\" localhost:8080/set -d '{\"key\":\"leapahead-string\",\"value\":\"Self-Destructing\"}'\n",
    "echo ''\n",
    "curl -H \"Content-Type: application/json\" localhost:8080/getEx -d '{\"key\":\"leapahead-string\",\"value\":\"3\"}'\n",
    "echo ''\n",
    "sleep 3\n",
    "curl -H \"Content-Type: text/plain\" localhost:8080/get -d 'leapahead-string'"
   ]
  },
  {
   "cell_type": "markdown",
   "metadata": {
    "slideshow": {
     "slide_type": "slide"
    }
   },
   "source": [
    "#### String : ValueOperations\n",
    "\n",
    "GETDEL -> getAndDelete"
   ]
  },
  {
   "cell_type": "code",
   "execution_count": 5,
   "metadata": {
    "scrolled": true
   },
   "outputs": [
    {
     "name": "stdout",
     "output_type": "stream",
     "text": [
      "OK\n",
      "\"One Per Customer\"\n",
      "(nil)\n"
     ]
    }
   ],
   "source": [
    "redis-cli set leapaheadkey 'One Per Customer'\n",
    "redis-cli getdel leapaheadkey\n",
    "redis-cli get leapaheadkey"
   ]
  },
  {
   "cell_type": "markdown",
   "metadata": {
    "slideshow": {
     "slide_type": "subslide"
    }
   },
   "source": [
    "```java\n",
    "@Component\n",
    "class GetDel implements Function<String, String> {\n",
    "\tprivate final StringRedisTemplate redisTemplate;\n",
    "\tpublic GetDel(StringRedisTemplate redisTemplate){\n",
    "\t\tthis.redisTemplate = redisTemplate;\n",
    "\t}\n",
    "\t@Override\n",
    "\tpublic String apply(String input) {\n",
    "\t\treturn redisTemplate.opsForValue().getAndDelete(input);\n",
    "\t}\n",
    "}\n",
    "```"
   ]
  },
  {
   "cell_type": "code",
   "execution_count": 9,
   "metadata": {
    "slideshow": {
     "slide_type": "subslide"
    }
   },
   "outputs": [
    {
     "name": "stdout",
     "output_type": "stream",
     "text": [
      "OK\n",
      "Self-Destructing\n",
      "{\"timestamp\":\"2021-09-01T22:41:57.251+00:00\",\"path\":\"/get\",\"status\":500,\"error\":\"Internal Server Error\",\"requestId\":\"7eb79a20-1\"}"
     ]
    }
   ],
   "source": [
    "curl -H \"Content-Type: application/json\" localhost:8080/set -d '{\"key\":\"leapahead-string\",\"value\":\"Self-Destructing\"}'\n",
    "echo ''\n",
    "curl -H \"Content-Type: application/json\" localhost:8080/getDel -d 'leapahead-string'\n",
    "echo ''\n",
    "curl -H \"Content-Type: text/plain\" localhost:8080/get -d 'leapahead-string'"
   ]
  },
  {
   "cell_type": "markdown",
   "metadata": {
    "slideshow": {
     "slide_type": "slide"
    }
   },
   "source": [
    "#### String : ValueOperations\n",
    "\n",
    "SET PX & EX"
   ]
  },
  {
   "cell_type": "code",
   "execution_count": 5,
   "metadata": {
    "scrolled": true
   },
   "outputs": [
    {
     "name": "stdout",
     "output_type": "stream",
     "text": [
      "OK\n",
      "\"One Per Customer\"\n",
      "(nil)\n"
     ]
    }
   ],
   "source": [
    "redis-cli set leapaheadkey 'One Per Customer'\n",
    "redis-cli getdel leapaheadkey\n",
    "redis-cli get leapaheadkey"
   ]
  },
  {
   "cell_type": "markdown",
   "metadata": {
    "slideshow": {
     "slide_type": "subslide"
    }
   },
   "source": [
    "```java\n",
    "@Component\n",
    "class GetDel implements Function<String, String> {\n",
    "\tprivate final StringRedisTemplate redisTemplate;\n",
    "\tpublic GetDel(StringRedisTemplate redisTemplate){\n",
    "\t\tthis.redisTemplate = redisTemplate;\n",
    "\t}\n",
    "\t@Override\n",
    "\tpublic String apply(String input) {\n",
    "\t\treturn redisTemplate.opsForValue().getAndDelete(input);\n",
    "\t}\n",
    "}\n",
    "```"
   ]
  },
  {
   "cell_type": "code",
   "execution_count": 9,
   "metadata": {
    "slideshow": {
     "slide_type": "subslide"
    }
   },
   "outputs": [
    {
     "name": "stdout",
     "output_type": "stream",
     "text": [
      "OK\n",
      "Self-Destructing\n",
      "{\"timestamp\":\"2021-09-01T22:41:57.251+00:00\",\"path\":\"/get\",\"status\":500,\"error\":\"Internal Server Error\",\"requestId\":\"7eb79a20-1\"}"
     ]
    }
   ],
   "source": [
    "curl -H \"Content-Type: application/json\" localhost:8080/set -d '{\"key\":\"leapahead-string\",\"value\":\"Self-Destructing\"}'\n",
    "echo ''\n",
    "curl -H \"Content-Type: application/json\" localhost:8080/getDel -d 'leapahead-string'\n",
    "echo ''\n",
    "curl -H \"Content-Type: text/plain\" localhost:8080/get -d 'leapahead-string'"
   ]
  },
  {
   "cell_type": "markdown",
   "metadata": {
    "slideshow": {
     "slide_type": "slide"
    }
   },
   "source": [
    "#### String : ValueOperations\n",
    "\n",
    "SET PXAT & EXAT"
   ]
  },
  {
   "cell_type": "code",
   "execution_count": 12,
   "metadata": {
    "scrolled": true
   },
   "outputs": [
    {
     "name": "stdout",
     "output_type": "stream",
     "text": [
      "OK\n",
      "There are 31536000 seconds in a year\n",
      "(integer) 31610130\n",
      "OK\n",
      "(integer) 31610130\n"
     ]
    }
   ],
   "source": [
    "redis-cli set leapaheadkey 'This offer will not last' PXAT 1662163200000\n",
    "echo 'There are 31536000 seconds in a year'\n",
    "redis-cli ttl leapaheadkey\n",
    "redis-cli set leapaheadkey2 'I will glady pay you later for a hamburger today' EXAT 1662163200\n",
    "redis-cli ttl leapaheadkey2"
   ]
  },
  {
   "cell_type": "markdown",
   "metadata": {
    "slideshow": {
     "slide_type": "subslide"
    }
   },
   "source": [
    "```java\n",
    "@Component\n",
    "class SetPX implements Function<PX, String> {\n",
    "\tprivate final StringRedisTemplate redisTemplate;\n",
    "\tpublic SetPX(StringRedisTemplate redisTemplate){\n",
    "\t\tthis.redisTemplate = redisTemplate;\n",
    "\t}\n",
    "\t@Override\n",
    "\tpublic String apply(PX input) {\n",
    "\t\tObjects.requireNonNull(redisTemplate.getConnectionFactory())\n",
    "\t\t\t\t.getConnection()\n",
    "\t\t\t\t.set(input.getKey().getBytes(StandardCharsets.UTF_8),\n",
    "\t\t\t\t\t\tinput.getValue().getBytes(StandardCharsets.UTF_8),\n",
    "\t\t\t\t\t\tExpiration.unixTimestamp(Long.parseLong(input.getP()), TimeUnit.MILLISECONDS),\n",
    "\t\t\t\t\t\tRedisStringCommands.SetOption.UPSERT);\n",
    "\t\treturn \"OK\";\n",
    "\t}\n",
    "}\n",
    "```"
   ]
  },
  {
   "cell_type": "code",
   "execution_count": 30,
   "metadata": {
    "slideshow": {
     "slide_type": "subslide"
    }
   },
   "outputs": [
    {
     "name": "stdout",
     "output_type": "stream",
     "text": [
      "OK\n",
      "Self-Destructing\n",
      "{\"timestamp\":\"2021-09-02T03:51:59.583+00:00\",\"path\":\"/get\",\"status\":500,\"error\":\"Internal Server Error\",\"requestId\":\"42757f7d-1\"}"
     ]
    }
   ],
   "source": [
    "curl -H \"Content-Type: application/json\" localhost:8080/setPx -d '{\"key\":\"leapahead-string\",\"value\":\"Self-Destructing\",\"p\":\"'\"$(($(date +%s000) + 2000))\"'\"}'\n",
    "echo ''\n",
    "curl -H \"Content-Type: text/plain\" localhost:8080/get -d 'leapahead-string'\n",
    "sleep 2\n",
    "echo ''\n",
    "curl -H \"Content-Type: text/plain\" localhost:8080/get -d 'leapahead-string'\n",
    "\n"
   ]
  },
  {
   "cell_type": "code",
   "execution_count": null,
   "metadata": {},
   "outputs": [],
   "source": []
  }
 ],
 "metadata": {
  "celltoolbar": "Slideshow",
  "kernelspec": {
   "display_name": "Bash",
   "language": "bash",
   "name": "bash"
  },
  "language_info": {
   "codemirror_mode": "shell",
   "file_extension": ".sh",
   "mimetype": "text/x-sh",
   "name": "bash"
  },
  "rise": {
   "height": "100%",
   "overlay": "<div class='frame'><span class='helper'></span><img src='images/redis-icon.svg' height=200/></div>",
   "scroll": true,
   "slideNumber": false,
   "width": "100%"
  }
 },
 "nbformat": 4,
 "nbformat_minor": 4
}