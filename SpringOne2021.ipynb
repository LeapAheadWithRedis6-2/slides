{
 "cells": [
  {
   "cell_type": "markdown",
   "metadata": {
    "slideshow": {
     "slide_type": "slide"
    }
   },
   "source": [
    "## Leap Ahead with Redis 6.2"
   ]
  },
  {
   "cell_type": "markdown",
   "metadata": {
    "slideshow": {
     "slide_type": "slide"
    }
   },
   "source": [
    "## Brian Sam-Bodden\n",
    "\n",
    "- Developer Advocate at Redis\n",
    "- @bsbodden on (Twitter|GitHub|GitLab|LinkedIn)\n",
    "- Technologist\n",
    "- Entrepreneur\n",
    "- Author\n",
    "- Teacher, and Student\n",
    "- Aims to push the envelope of technology and fill the world with better, more passionate programmers.\n",
    "- Brings vision and energy, and willingness to start at the beginning."
   ]
  },
  {
   "cell_type": "markdown",
   "metadata": {
    "slideshow": {
     "slide_type": "slide"
    }
   },
   "source": [
    "## DaShaun Carter\n",
    "\n",
    "- 319 days as Partner Solution Architect, Redis\n",
    "- @dashaun on (Twitter|GitHub|GitLab|LinkedIn)\n",
    "- A husband, father of four, volunteer and struggling athlete.\n",
    "- Deliberately practicing to build better software, faster.\n",
    "- Generalist.\n",
    "- Computer Science. MBA.\n",
    "- Continuously learning.\n",
    "- Believes that every rep counts.\n",
    "- Doesn't have anything figured out.\n",
    "- Trying to get a little better every day.\n",
    "- Understanding in order to be understood."
   ]
  },
  {
   "cell_type": "markdown",
   "metadata": {
    "slideshow": {
     "slide_type": "slide"
    }
   },
   "source": [
    "### Redis"
   ]
  },
  {
   "cell_type": "markdown",
   "metadata": {
    "slideshow": {
     "slide_type": "fragment"
    }
   },
   "source": [
    "- The \"Most Loved\" database in StackOverflow's Developer Survey\n",
    "- For the 5th year in a row\n",
    "- Data stored in memory, not on disk\n",
    "- < 1m latency\n",
    "- 162 clients in 50 different languages"
   ]
  },
  {
   "cell_type": "markdown",
   "metadata": {
    "slideshow": {
     "slide_type": "slide"
    }
   },
   "source": [
    "### Redis OSS 6.2\n",
    "#### The Community Edition"
   ]
  },
  {
   "cell_type": "markdown",
   "metadata": {
    "slideshow": {
     "slide_type": "fragment"
    }
   },
   "source": [
    "- 6.2 was driven by the community\n",
    "- Loads of community contributed features\n",
    "- 15 new commands\n",
    "- 5 commands changed\n",
    "- 8 commands deprecated"
   ]
  },
  {
   "cell_type": "markdown",
   "metadata": {
    "slideshow": {
     "slide_type": "slide"
    }
   },
   "source": [
    "### Spring Data"
   ]
  },
  {
   "cell_type": "markdown",
   "metadata": {
    "slideshow": {
     "slide_type": "slide"
    }
   },
   "source": [
    "### Spring Data Redis"
   ]
  },
  {
   "cell_type": "markdown",
   "metadata": {
    "slideshow": {
     "slide_type": "slide"
    }
   },
   "source": [
    "#### String : ValueOperations\n",
    "\n",
    "SET -> set"
   ]
  },
  {
   "cell_type": "code",
   "execution_count": null,
   "metadata": {
    "slideshow": {
     "slide_type": "subslide"
    }
   },
   "outputs": [],
   "source": [
    "redis-cli set leapaheadkey leapaheadvalue"
   ]
  },
  {
   "cell_type": "markdown",
   "metadata": {
    "slideshow": {
     "slide_type": "subslide"
    }
   },
   "source": [
    "```java\n",
    "@Component\n",
    "class Set implements Function<KeyValue, String> {\n",
    "\tprivate final StringRedisTemplate redisTemplate;\n",
    "\tpublic ValueSet(StringRedisTemplate redisTemplate){\n",
    "\t\tthis.redisTemplate = redisTemplate;\n",
    "\t}\n",
    "\t@Override\n",
    "\tpublic String apply(KeyValue input) {\n",
    "\t\tredisTemplate.opsForValue().set(input.getKey(), input.getValue());\n",
    "\t\treturn \"OK\";\n",
    "\t}\n",
    "}\n",
    "```"
   ]
  },
  {
   "cell_type": "code",
   "execution_count": null,
   "metadata": {
    "slideshow": {
     "slide_type": "subslide"
    }
   },
   "outputs": [],
   "source": [
    "curl -H \"Content-Type: application/json\" localhost:8080/set -d '{\"key\":\"leapahead-string\",\"value\":\"Spring Cloud Function\"}'"
   ]
  },
  {
   "cell_type": "markdown",
   "metadata": {
    "slideshow": {
     "slide_type": "slide"
    }
   },
   "source": [
    "### String\n",
    "\n",
    "GET -> get"
   ]
  },
  {
   "cell_type": "code",
   "execution_count": null,
   "metadata": {
    "slideshow": {
     "slide_type": "subslide"
    }
   },
   "outputs": [],
   "source": [
    "redis-cli get leapaheadkey"
   ]
  },
  {
   "cell_type": "markdown",
   "metadata": {
    "slideshow": {
     "slide_type": "subslide"
    }
   },
   "source": [
    "```java\n",
    "@Component\n",
    "class Get implements Function<String, String> {\n",
    "\tprivate final StringRedisTemplate redisTemplate;\n",
    "\tpublic ValueGet(StringRedisTemplate redisTemplate){\n",
    "\t\tthis.redisTemplate = redisTemplate;\n",
    "\t}\n",
    "\t@Override\n",
    "\tpublic String apply(String input) {\n",
    "\t\treturn redisTemplate.opsForValue().get(input);\n",
    "\t}\n",
    "}\n",
    "```"
   ]
  },
  {
   "cell_type": "code",
   "execution_count": null,
   "metadata": {},
   "outputs": [],
   "source": [
    "curl -H \"Content-Type: text/plain\" localhost:8080/get -d 'leapaheadkey'"
   ]
  },
  {
   "cell_type": "markdown",
   "metadata": {
    "slideshow": {
     "slide_type": "slide"
    }
   },
   "source": [
    "#### String : ValueOperations\n",
    "\n",
    "GETSET -> getAndSet"
   ]
  },
  {
   "cell_type": "code",
   "execution_count": null,
   "metadata": {
    "slideshow": {
     "slide_type": "subslide"
    }
   },
   "outputs": [],
   "source": [
    "redis-cli set leapaheadkey leapaheadvalue\n",
    "redis-cli get leapaheadkey\n",
    "redis-cli getset leapaheadkey updatedvalue\n",
    "redis-cli getset leapaheadkey anotherupdatedvalue\n",
    "redis-cli get leapaheadkey"
   ]
  },
  {
   "cell_type": "markdown",
   "metadata": {
    "slideshow": {
     "slide_type": "subslide"
    }
   },
   "source": [
    "```java\n",
    "@Component\n",
    "class GetAndSet implements Function<KeyValue, String> {\n",
    "\tprivate final StringRedisTemplate redisTemplate;\n",
    "\tpublic GetAndSet(StringRedisTemplate redisTemplate){\n",
    "\t\tthis.redisTemplate = redisTemplate;\n",
    "\t}\n",
    "\t@Override\n",
    "\tpublic String apply(KeyValue input) {\n",
    "\t\treturn redisTemplate.opsForValue().getAndSet(input.getKey(), input.getValue());\n",
    "\t}\n",
    "}\n",
    "```"
   ]
  },
  {
   "cell_type": "code",
   "execution_count": null,
   "metadata": {
    "slideshow": {
     "slide_type": "subslide"
    }
   },
   "outputs": [],
   "source": [
    "curl -H \"Content-Type: application/json\" localhost:8080/set -d '{\"key\":\"leapahead-string\",\"value\":\"Spring Cloud Function\"}'\n",
    "echo ''\n",
    "curl -H \"Content-Type: application/json\" localhost:8080/getAndSet -d '{\"key\":\"leapahead-string\",\"value\":\"This is so cool!\"}'\n",
    "echo ''\n",
    "curl -H \"Content-Type: text/plain\" localhost:8080/get -d 'leapahead-string'"
   ]
  },
  {
   "cell_type": "markdown",
   "metadata": {
    "slideshow": {
     "slide_type": "slide"
    }
   },
   "source": [
    "#### String : ValueOperations\n",
    "\n",
    "GETEX -> getAndExpire"
   ]
  },
  {
   "cell_type": "code",
   "execution_count": null,
   "metadata": {},
   "outputs": [],
   "source": [
    "redis-cli set leapaheadkey 'This message should self destruct in 3 seconds'\n",
    "redis-cli getex leapaheadkey ex 3\n",
    "sleep 1\n",
    "redis-cli ttl leapaheadkey\n",
    "sleep 2\n",
    "redis-cli get leapaheadkey"
   ]
  },
  {
   "cell_type": "markdown",
   "metadata": {
    "slideshow": {
     "slide_type": "subslide"
    }
   },
   "source": [
    "```java\n",
    "@Component\n",
    "class GetEx implements Function<KeyValue, String> {\n",
    "\tprivate final StringRedisTemplate redisTemplate;\n",
    "\tpublic GetEx(StringRedisTemplate redisTemplate){\n",
    "\t\tthis.redisTemplate = redisTemplate;\n",
    "\t}\n",
    "\t@Override\n",
    "\tpublic String apply(KeyValue input) {\n",
    "\t\tDuration t = Duration.ofSeconds(Long.parseLong(input.getValue()));\n",
    "\t\treturn redisTemplate\n",
    "\t\t\t\t.opsForValue()\n",
    "\t\t\t\t.getAndExpire(input.getKey(), t);\n",
    "\t}\n",
    "}\n",
    "```"
   ]
  },
  {
   "cell_type": "code",
   "execution_count": null,
   "metadata": {
    "slideshow": {
     "slide_type": "subslide"
    }
   },
   "outputs": [],
   "source": [
    "curl -H \"Content-Type: application/json\" localhost:8080/set -d '{\"key\":\"leapahead-string\",\"value\":\"Self-Destructing\"}'\n",
    "echo ''\n",
    "curl -H \"Content-Type: application/json\" localhost:8080/getEx -d '{\"key\":\"leapahead-string\",\"value\":\"3\"}'\n",
    "echo ''\n",
    "sleep 3\n",
    "curl -H \"Content-Type: text/plain\" localhost:8080/get -d 'leapahead-string'"
   ]
  },
  {
   "cell_type": "markdown",
   "metadata": {
    "slideshow": {
     "slide_type": "slide"
    }
   },
   "source": [
    "#### String : ValueOperations\n",
    "\n",
    "GETDEL -> getAndDelete"
   ]
  },
  {
   "cell_type": "code",
   "execution_count": null,
   "metadata": {
    "scrolled": true
   },
   "outputs": [],
   "source": [
    "redis-cli set leapaheadkey 'One Per Customer'\n",
    "redis-cli getdel leapaheadkey\n",
    "redis-cli get leapaheadkey"
   ]
  },
  {
   "cell_type": "markdown",
   "metadata": {
    "slideshow": {
     "slide_type": "subslide"
    }
   },
   "source": [
    "```java\n",
    "@Component\n",
    "class GetDel implements Function<String, String> {\n",
    "\tprivate final StringRedisTemplate redisTemplate;\n",
    "\tpublic GetDel(StringRedisTemplate redisTemplate){\n",
    "\t\tthis.redisTemplate = redisTemplate;\n",
    "\t}\n",
    "\t@Override\n",
    "\tpublic String apply(String input) {\n",
    "\t\treturn redisTemplate.opsForValue().getAndDelete(input);\n",
    "\t}\n",
    "}\n",
    "```"
   ]
  },
  {
   "cell_type": "code",
   "execution_count": null,
   "metadata": {
    "slideshow": {
     "slide_type": "subslide"
    }
   },
   "outputs": [],
   "source": [
    "curl -H \"Content-Type: application/json\" localhost:8080/set -d '{\"key\":\"leapahead-string\",\"value\":\"Self-Destructing\"}'\n",
    "echo ''\n",
    "curl -H \"Content-Type: application/json\" localhost:8080/getDel -d 'leapahead-string'\n",
    "echo ''\n",
    "curl -H \"Content-Type: text/plain\" localhost:8080/get -d 'leapahead-string'"
   ]
  },
  {
   "cell_type": "markdown",
   "metadata": {
    "slideshow": {
     "slide_type": "slide"
    }
   },
   "source": [
    "#### String : ValueOperations\n",
    "\n",
    "SET PX & EX"
   ]
  },
  {
   "cell_type": "code",
   "execution_count": null,
   "metadata": {
    "scrolled": true
   },
   "outputs": [],
   "source": [
    "redis-cli set leapaheadkey 'One Per Customer'\n",
    "redis-cli getdel leapaheadkey\n",
    "redis-cli get leapaheadkey"
   ]
  },
  {
   "cell_type": "markdown",
   "metadata": {
    "slideshow": {
     "slide_type": "subslide"
    }
   },
   "source": [
    "```java\n",
    "@Component\n",
    "class GetDel implements Function<String, String> {\n",
    "\tprivate final StringRedisTemplate redisTemplate;\n",
    "\tpublic GetDel(StringRedisTemplate redisTemplate){\n",
    "\t\tthis.redisTemplate = redisTemplate;\n",
    "\t}\n",
    "\t@Override\n",
    "\tpublic String apply(String input) {\n",
    "\t\treturn redisTemplate.opsForValue().getAndDelete(input);\n",
    "\t}\n",
    "}\n",
    "```"
   ]
  },
  {
   "cell_type": "code",
   "execution_count": null,
   "metadata": {
    "slideshow": {
     "slide_type": "subslide"
    }
   },
   "outputs": [],
   "source": [
    "curl -H \"Content-Type: application/json\" localhost:8080/set -d '{\"key\":\"leapahead-string\",\"value\":\"Self-Destructing\"}'\n",
    "echo ''\n",
    "curl -H \"Content-Type: application/json\" localhost:8080/getDel -d 'leapahead-string'\n",
    "echo ''\n",
    "curl -H \"Content-Type: text/plain\" localhost:8080/get -d 'leapahead-string'"
   ]
  },
  {
   "cell_type": "markdown",
   "metadata": {
    "slideshow": {
     "slide_type": "slide"
    }
   },
   "source": [
    "#### String : ValueOperations\n",
    "\n",
    "SET PXAT & EXAT"
   ]
  },
  {
   "cell_type": "code",
   "execution_count": null,
   "metadata": {
    "scrolled": true
   },
   "outputs": [],
   "source": [
    "redis-cli set leapaheadkey 'This offer will not last' PXAT 1662163200000\n",
    "echo 'There are 31536000 seconds in a year'\n",
    "redis-cli ttl leapaheadkey\n",
    "redis-cli set leapaheadkey2 'I will glady pay you later for a hamburger today' EXAT 1662163200\n",
    "redis-cli ttl leapaheadkey2"
   ]
  },
  {
   "cell_type": "markdown",
   "metadata": {
    "slideshow": {
     "slide_type": "subslide"
    }
   },
   "source": [
    "```java\n",
    "@Component\n",
    "class SetPX implements Function<PX, String> {\n",
    "\tprivate final StringRedisTemplate redisTemplate;\n",
    "\tpublic SetPX(StringRedisTemplate redisTemplate){\n",
    "\t\tthis.redisTemplate = redisTemplate;\n",
    "\t}\n",
    "\t@Override\n",
    "\tpublic String apply(PX input) {\n",
    "\t\tObjects.requireNonNull(redisTemplate.getConnectionFactory())\n",
    "\t\t\t\t.getConnection()\n",
    "\t\t\t\t.set(input.getKey().getBytes(StandardCharsets.UTF_8),\n",
    "\t\t\t\t\t\tinput.getValue().getBytes(StandardCharsets.UTF_8),\n",
    "\t\t\t\t\t\tExpiration.unixTimestamp(Long.parseLong(input.getP()), TimeUnit.MILLISECONDS),\n",
    "\t\t\t\t\t\tRedisStringCommands.SetOption.UPSERT);\n",
    "\t\treturn \"OK\";\n",
    "\t}\n",
    "}\n",
    "```"
   ]
  },
  {
   "cell_type": "code",
   "execution_count": null,
   "metadata": {
    "slideshow": {
     "slide_type": "subslide"
    }
   },
   "outputs": [],
   "source": [
    "curl -H \"Content-Type: application/json\" localhost:8080/setPx -d '{\"key\":\"leapahead-string\",\"value\":\"Self-Destructing\",\"p\":\"'\"$(($(date +%s000) + 2000))\"'\"}'\n",
    "echo ''\n",
    "curl -H \"Content-Type: text/plain\" localhost:8080/get -d 'leapahead-string'\n",
    "sleep 2\n",
    "echo ''\n",
    "curl -H \"Content-Type: text/plain\" localhost:8080/get -d 'leapahead-string'\n",
    "\n"
   ]
  },
  {
   "cell_type": "markdown",
   "metadata": {
    "slideshow": {
     "slide_type": "subslide"
    }
   },
   "source": [
    "```java\n",
    "@Component\n",
    "class SetEx implements Function<EX, String> {\n",
    "\tprivate final RedisTemplate redisTemplate;\n",
    "\tpublic SetEx(RedisTemplate redisTemplate){\n",
    "\t\tthis.redisTemplate = redisTemplate;\n",
    "\t}\n",
    "\t@Override\n",
    "\tpublic String apply(EX input) {\n",
    "\t\tObjects.requireNonNull(redisTemplate.getConnectionFactory())\n",
    "\t\t\t\t.getConnection()\n",
    "\t\t\t\t.set(input.getKey().getBytes(StandardCharsets.UTF_8),\n",
    "\t\t\t\t\t\tinput.getValue().getBytes(StandardCharsets.UTF_8),\n",
    "\t\t\t\t\t\tExpiration.unixTimestamp(Long.parseLong(input.getE()), TimeUnit.SECONDS),\n",
    "\t\t\t\t\t\tRedisStringCommands.SetOption.UPSERT);\n",
    "\t\treturn \"OK\";\n",
    "\t}\n",
    "}\n",
    "```"
   ]
  },
  {
   "cell_type": "code",
   "execution_count": null,
   "metadata": {},
   "outputs": [],
   "source": [
    "curl -H \"Content-Type: application/json\" localhost:8080/setEx -d '{\"key\":\"leapahead-string\",\"value\":\"Self-Destructing\",\"e\":\"'\"$(($(date +%s) + 2))\"'\"}'\n",
    "echo ''\n",
    "curl -H \"Content-Type: text/plain\" localhost:8080/get -d 'leapahead-string'\n",
    "sleep 2\n",
    "echo ''\n",
    "curl -H \"Content-Type: text/plain\" localhost:8080/get -d 'leapahead-string'"
   ]
  },
  {
   "cell_type": "markdown",
   "metadata": {
    "slideshow": {
     "slide_type": "slide"
    }
   },
   "source": [
    "# Quiz Time\n"
   ]
  },
  {
   "cell_type": "markdown",
   "metadata": {
    "slideshow": {
     "slide_type": "slide"
    }
   },
   "source": [
    "## What is the maximum size of a Redis Key?"
   ]
  },
  {
   "cell_type": "markdown",
   "metadata": {
    "slideshow": {
     "slide_type": "fragment"
    }
   },
   "source": [
    "# 512MB"
   ]
  },
  {
   "cell_type": "markdown",
   "metadata": {
    "slideshow": {
     "slide_type": "slide"
    }
   },
   "source": [
    "## What is the maximum size of a Redis Value?"
   ]
  },
  {
   "cell_type": "markdown",
   "metadata": {
    "slideshow": {
     "slide_type": "fragment"
    }
   },
   "source": [
    "# 512MB"
   ]
  },
  {
   "cell_type": "markdown",
   "metadata": {
    "slideshow": {
     "slide_type": "slide"
    }
   },
   "source": [
    "#### Hash : HashOperations\n",
    "\n",
    "HSET"
   ]
  },
  {
   "cell_type": "code",
   "execution_count": null,
   "metadata": {
    "slideshow": {
     "slide_type": "subslide"
    }
   },
   "outputs": [],
   "source": [
    "redis-cli hmset leapahead:session status \"So far, so good\" track \"Beginner, trending in the right direction\" conf \"SpringOne 2021\" presentedBy \"@dashaun, @bsbodden\"\n",
    "redis-cli hgetall leapahead:session\n"
   ]
  },
  {
   "cell_type": "markdown",
   "metadata": {
    "slideshow": {
     "slide_type": "slide"
    }
   },
   "source": [
    "### List\n",
    "\n",
    "- An ordered sequence of strings\n",
    "- Comparable to a Java ArrayList\n",
    "- Multi-purpose:\n",
    "  - Stacks\n",
    "  - Queues\n",
    "- A single List can hold over 4 billion entries."
   ]
  },
  {
   "cell_type": "markdown",
   "metadata": {
    "slideshow": {
     "slide_type": "slide"
    }
   },
   "source": [
    "### Adding to a List\n",
    "\n",
    "- You can **add** things by:\n",
    "  - **Pushing** in: `LPUSH`/`LPUSHX`, `RPUSH`/`RPUSHX`\n",
    "  - **Inserting** before/after: `LINSERT`\n",
    "  - **Setting** the value at an **index**: `LSET`"
   ]
  },
  {
   "cell_type": "markdown",
   "metadata": {
    "slideshow": {
     "slide_type": "slide"
    }
   },
   "source": [
    "### Remove from a List\n",
    "\n",
    "- You can **remove things** things by:\n",
    "  - **Popping** off: `LPOP`/`RPOP`/`BLPOP`/`BRPOP`\n",
    "  - **By value** `LREM`\n",
    "  - **By index** range: `LTRIM`"
   ]
  },
  {
   "cell_type": "markdown",
   "metadata": {
    "slideshow": {
     "slide_type": "slide"
    }
   },
   "source": [
    "### Accessing Elements\n",
    "\n",
    "- **By index**: `LINDEX`\n",
    "- **By range**: `LRANGE`"
   ]
  },
  {
   "cell_type": "markdown",
   "metadata": {
    "slideshow": {
     "slide_type": "slide"
    }
   },
   "source": [
    "### Between Lists\n",
    "\n",
    "- **Last** from one list, **to first** in another: `RPOPLPUSH`/`BRPOPLPUSH`\n",
    "- **Pop** and then **Push**: `LMOVE`/`BLMOVE`"
   ]
  },
  {
   "cell_type": "code",
   "execution_count": 1,
   "metadata": {},
   "outputs": [
    {
     "name": "stdout",
     "output_type": "stream",
     "text": [
      "(integer) 1\n",
      "(integer) 3\n",
      "\n",
      "1) \"Shenanigans\"\n",
      "2) \"Bamboozle\"\n",
      "3) \"Bodacious\"\n"
     ]
    }
   ],
   "source": [
    "redis-cli DEL funny_words\n",
    "redis-cli RPUSH funny_words \"Shenanigans\" \"Bamboozle\" \"Bodacious\"\n",
    "echo ''\n",
    "redis-cli LRANGE funny_words 0 -1"
   ]
  },
  {
   "cell_type": "code",
   "execution_count": 5,
   "metadata": {},
   "outputs": [
    {
     "name": "stdout",
     "output_type": "stream",
     "text": [
      "1) \"Bumfuzzle\"\n",
      "2) \"Bumfuzzle\"\n",
      "3) \"Shenanigans\"\n",
      "4) \"Brouhaha\"\n",
      "5) \"Flibbertigibbet\"\n",
      "6) \"Bodacious\"\n",
      "\n",
      "(integer) 7\n",
      "1) \"Bumfuzzle\"\n",
      "2) \"Bumfuzzle\"\n",
      "3) \"Bumfuzzle\"\n",
      "4) \"Shenanigans\"\n",
      "5) \"Brouhaha\"\n",
      "6) \"Flibbertigibbet\"\n",
      "7) \"Bodacious\"\n",
      "\n",
      "1) \"Bumfuzzle\"\n",
      "2) \"Bumfuzzle\"\n",
      "3) \"Shenanigans\"\n"
     ]
    }
   ],
   "source": [
    "redis-cli LRANGE funny_words 0 -1\n",
    "echo ''\n",
    "redis-cli LPUSH funny_words \"Bumfuzzle\"\n",
    "echo ''\n",
    "redis-cli LRANGE funny_words 0 -1"
   ]
  },
  {
   "cell_type": "code",
   "execution_count": 7,
   "metadata": {},
   "outputs": [
    {
     "name": "stdout",
     "output_type": "stream",
     "text": [
      "1) \"Bumfuzzle\"\n",
      "2) \"Bumfuzzle\"\n",
      "3) \"Shenanigans\"\n",
      "\n",
      "(integer) -1\n",
      "\n",
      "OK\n",
      "\n",
      "1) \"Bumfuzzle\"\n",
      "2) \"Bumfuzzle\"\n",
      "3) \"Bumfuzzle\"\n",
      "4) \"Shenanigans\"\n",
      "5) \"Brouhaha\"\n",
      "6) \"Flibbertigibbet\"\n",
      "7) \"Bodacious\"\n"
     ]
    }
   ],
   "source": [
    "redis-cli LRANGE funny_words 1 3\n",
    "echo ''\n",
    "redis-cli LINSERT funny_words BEFORE \"Bamboozle\" \"Brouhaha\"\n",
    "echo ''\n",
    "redis-cli LSET funny_words -2 \"Flibbertigibbet\"\n",
    "echo ''\n",
    "redis-cli LRANGE funny_words 0 -1"
   ]
  },
  {
   "cell_type": "code",
   "execution_count": 8,
   "metadata": {},
   "outputs": [
    {
     "name": "stdout",
     "output_type": "stream",
     "text": [
      "1) \"Bumfuzzle\"\n",
      "2) \"Bumfuzzle\"\n",
      "3) \"Bumfuzzle\"\n",
      "4) \"Shenanigans\"\n",
      "5) \"Brouhaha\"\n",
      "6) \"Flibbertigibbet\"\n",
      "7) \"Bodacious\"\n",
      "\n",
      "\"Bumfuzzle\"\n",
      "\n",
      "1) \"Bumfuzzle\"\n",
      "2) \"Bumfuzzle\"\n",
      "3) \"Shenanigans\"\n",
      "4) \"Brouhaha\"\n",
      "5) \"Flibbertigibbet\"\n",
      "6) \"Bodacious\"\n"
     ]
    }
   ],
   "source": [
    "redis-cli LRANGE funny_words 0 -1\n",
    "echo ''\n",
    "redis-cli LPOP funny_words\n",
    "echo ''\n",
    "redis-cli LRANGE funny_words 0 -1"
   ]
  },
  {
   "cell_type": "markdown",
   "metadata": {
    "slideshow": {
     "slide_type": "slide"
    }
   },
   "source": [
    "### In Spring Data Redis\n",
    "\n",
    "```java\n",
    "public class ListExample {\n",
    "\n",
    "  @Autowired\n",
    "  private StringRedisTemplate redisTemplate;\n",
    "\n",
    "  @Resource(name=\"stringRedisTemplate\")\n",
    "  private ListOperations<String, String> listOps;\n",
    "\n",
    "  public void playWithLists() {\n",
    "    //...\n",
    "  }\n",
    "}\n",
    "```"
   ]
  },
  {
   "cell_type": "markdown",
   "metadata": {
    "slideshow": {
     "slide_type": "slide"
    }
   },
   "source": [
    "### In Spring Data Redis\n",
    "\n",
    "```java\n",
    "public void playWithLists() {\n",
    "  listOps.rightPushAll(\"funny_words\", \"Shenanigans\", \"Bamboozle\", \"Bodacious\");\n",
    "  List<String> range = listOps.range(\"funny_words\", 0, -1);\n",
    "  System.out.println(range.toArray());\n",
    "\n",
    "  listOps.leftPush(\"funny_words\", \"Bumfuzzle\");\n",
    "  range = listOps.range(\"funny_words\", 1, 3);\n",
    "\n",
    "  listOps.leftPush(\"funny_words\", \"Bamboozle\", \"Brouhaha\");\n",
    "  // ...\n",
    "\n",
    "  listOps.set(\"funny_words\", -2, \"Flibbertigibbet\");\n",
    "  // ...\n",
    "  System.out.println(listOps.size(\"funny_words\"));\n",
    "}\n",
    "```"
   ]
  },
  {
   "cell_type": "markdown",
   "metadata": {
    "slideshow": {
     "slide_type": "slide"
    }
   },
   "source": [
    "### What's new with Lists in 6.2?\n",
    "\n",
    "- Add `LMOVE` and `BLMOVE` commands that pop and push arbitrarily (#6929)\n",
    "- Add the `COUNT `argument to `LPOP` and `RPOP` (#8179)"
   ]
  },
  {
   "cell_type": "markdown",
   "metadata": {
    "slideshow": {
     "slide_type": "slide"
    }
   },
   "source": [
    "### `LMOVE` on the CLI\n",
    "\n",
    "- Right-most from `list_one` to the left of `list_two`\n",
    "- Left-most from `list_one` to the left of `list_two`\n"
   ]
  },
  {
   "cell_type": "code",
   "execution_count": 9,
   "metadata": {},
   "outputs": [
    {
     "name": "stdout",
     "output_type": "stream",
     "text": [
      "(integer) 3\n",
      "\n",
      "\"three\"\n",
      "\n",
      "\"one\"\n",
      "\n",
      "1) \"two\"\n",
      "\n",
      "1) \"three\"\n",
      "2) \"one\"\n"
     ]
    }
   ],
   "source": [
    "redis-cli RPUSH list_one \"one\" \"two\" \"three\"\n",
    "echo ''\n",
    "redis-cli LMOVE list_one list_two RIGHT LEFT\n",
    "echo ''\n",
    "redis-cli LMOVE list_one list_two LEFT RIGHT\n",
    "echo ''\n",
    "redis-cli LRANGE list_one 0 -1\n",
    "echo ''\n",
    "redis-cli LRANGE list_two 0 -1"
   ]
  },
  {
   "cell_type": "markdown",
   "metadata": {
    "slideshow": {
     "slide_type": "slide"
    }
   },
   "source": [
    "### `LMOVE` on SDR as a JUnit Test\n",
    "\n",
    "```java\n",
    "@Test\n",
    "void testLMOVE() {\n",
    "  listOps.rightPushAll(\"list_one\", \"one\", \"two\", \"three\");\n",
    "  listOps.move(\"list_one\", RIGHT, \"list_two\", LEFT);\n",
    "  listOps.move(\"list_one\", LEFT, \"list_two\", RIGHT);\n",
    "\n",
    "  List<String> listOne = listOps.range(\"list_one\", 0, -1);\n",
    "  List<String> listTwo = listOps.range(\"list_two\", 0, -1);\n",
    "\n",
    "  assertTrue(listOne.containsAll(List.of(\"two\")));\n",
    "  assertTrue(listTwo.containsAll(List.of(\"three\", \"one\")));\n",
    "}\n",
    "```"
   ]
  },
  {
   "cell_type": "markdown",
   "metadata": {
    "slideshow": {
     "slide_type": "slide"
    }
   },
   "source": [
    "### `COUNT` on `LPOP`/`RPOP`\n",
    "\n",
    "Pop \"n\" things from the left or the right\n",
    "\n",
    "```bash\n",
    "redis> RPUSH mylist \"one\"\n",
    "(integer) 1\n",
    "redis> RPUSH mylist \"two\"\n",
    "(integer) 2\n",
    "redis> RPUSH mylist \"three\"\n",
    "(integer) 3\n",
    "redis> LPOP mylist 2\n",
    "\"one\"\n",
    "redis> LRANGE mylist 0 -1\n",
    "1) \"three\"\n",
    "```"
   ]
  },
  {
   "cell_type": "code",
   "execution_count": 10,
   "metadata": {},
   "outputs": [
    {
     "name": "stdout",
     "output_type": "stream",
     "text": [
      "(integer) 1\n",
      "(integer) 2\n",
      "(integer) 3\n",
      "1) \"one\"\n",
      "2) \"two\"\n",
      "1) \"three\"\n"
     ]
    }
   ],
   "source": [
    "redis-cli RPUSH mylist \"one\"\n",
    "redis-cli RPUSH mylist \"two\"\n",
    "redis-cli RPUSH mylist \"three\"\n",
    "redis-cli LPOP mylist 2\n",
    "redis-cli LRANGE mylist 0 -1"
   ]
  },
  {
   "cell_type": "markdown",
   "metadata": {
    "slideshow": {
     "slide_type": "slide"
    }
   },
   "source": [
    "### `COUNT` on `LPOP`/`RPOP` on SDR as a JUnit Test\n",
    "\n",
    "```java\n",
    "@Test\n",
    "void testLPOP() {\n",
    "  listOps.rightPush(\"mylist\", \"one\");\n",
    "  listOps.rightPush(\"mylist\", \"two\");\n",
    "  listOps.rightPush(\"mylist\", \"three\");\n",
    "  listOps.leftPop(\"mylist\", 2);\n",
    "  List<String> myList = listOps.range(\"mylist\", 0, -1);\n",
    "  assertTrue(myList.containsAll(List.of(\"three\")));\n",
    "}\n",
    "```"
   ]
  },
  {
   "cell_type": "code",
   "execution_count": null,
   "metadata": {},
   "outputs": [],
   "source": []
  }
 ],
 "metadata": {
  "celltoolbar": "Slideshow",
  "kernelspec": {
   "display_name": "Bash",
   "language": "bash",
   "name": "bash"
  },
  "language_info": {
   "codemirror_mode": "shell",
   "file_extension": ".sh",
   "mimetype": "text/x-sh",
   "name": "bash"
  },
  "rise": {
   "height": "100%",
   "overlay": "<div class='frame'><span class='helper'></span><img src='images/redis-icon.svg' height=200/></div>",
   "scroll": true,
   "slideNumber": false,
   "width": "100%"
  }
 },
 "nbformat": 4,
 "nbformat_minor": 4
}