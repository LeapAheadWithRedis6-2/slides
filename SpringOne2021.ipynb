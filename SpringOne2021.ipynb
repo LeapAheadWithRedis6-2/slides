{
 "cells": [
  {
   "cell_type": "markdown",
   "metadata": {
    "slideshow": {
     "slide_type": "slide"
    }
   },
   "source": [
    "## Leap Ahead with Redis 6.2"
   ]
  },
  {
   "cell_type": "markdown",
   "metadata": {
    "slideshow": {
     "slide_type": "slide"
    }
   },
   "source": [
    "## Brian Sam-Bodden\n",
    "\n",
    "- Developer Advocate at Redis\n",
    "- @bsbodden on (Twitter|GitHub|GitLab|LinkedIn)\n",
    "- Technologist\n",
    "- Entrepreneur\n",
    "- Author\n",
    "- Teacher, and Student\n",
    "- Aims to push the envelope of technology and fill the world with better, more passionate programmers.\n",
    "- Brings vision and energy, and willingness to start at the beginning."
   ]
  },
  {
   "cell_type": "markdown",
   "metadata": {
    "slideshow": {
     "slide_type": "slide"
    }
   },
   "source": [
    "## DaShaun Carter\n",
    "\n",
    "- 319 days as Partner Solution Architect, Redis\n",
    "- @dashaun on (Twitter|GitHub|GitLab|LinkedIn)\n",
    "- A husband, father of four, volunteer and struggling athlete.\n",
    "- Deliberately practicing to build better software, faster.\n",
    "- Generalist.\n",
    "- Computer Science. MBA.\n",
    "- Continuously learning.\n",
    "- Believes that every rep counts.\n",
    "- Doesn't have anything figured out.\n",
    "- Trying to get a little better every day.\n",
    "- Understanding in order to be understood."
   ]
  },
  {
   "cell_type": "markdown",
   "metadata": {
    "slideshow": {
     "slide_type": "slide"
    }
   },
   "source": [
    "### Redis"
   ]
  },
  {
   "cell_type": "markdown",
   "metadata": {
    "slideshow": {
     "slide_type": "fragment"
    }
   },
   "source": [
    "- The \"Most Loved\" database in StackOverflow's Developer Survey\n",
    "- For the 5th year in a row\n",
    "- Data stored in memory, not on disk\n",
    "- < 1m latency\n",
    "- 162 clients in 50 different languages"
   ]
  },
  {
   "cell_type": "markdown",
   "metadata": {
    "slideshow": {
     "slide_type": "slide"
    }
   },
   "source": [
    "### Redis OSS 6.2\n",
    "#### The Community Edition"
   ]
  },
  {
   "cell_type": "markdown",
   "metadata": {
    "slideshow": {
     "slide_type": "fragment"
    }
   },
   "source": [
    "- 6.2 was driven by the community\n",
    "- Loads of community contributed features\n",
    "- 15 new commands\n",
    "- 5 commands changed\n",
    "- 8 commands deprecated"
   ]
  },
  {
   "cell_type": "markdown",
   "metadata": {
    "slideshow": {
     "slide_type": "slide"
    }
   },
   "source": [
    "### Spring Data"
   ]
  },
  {
   "cell_type": "markdown",
   "metadata": {
    "slideshow": {
     "slide_type": "slide"
    }
   },
   "source": [
    "### Spring Data Redis"
   ]
  },
  {
   "cell_type": "markdown",
   "metadata": {
    "slideshow": {
     "slide_type": "slide"
    }
   },
   "source": [
    "#### String : ValueOperations\n",
    "\n",
    "SET"
   ]
  },
  {
   "cell_type": "code",
   "execution_count": null,
   "metadata": {
    "slideshow": {
     "slide_type": "subslide"
    }
   },
   "outputs": [],
   "source": [
    "redis-cli set leapaheadkey leapaheadvalue"
   ]
  },
  {
   "cell_type": "markdown",
   "metadata": {
    "slideshow": {
     "slide_type": "subslide"
    }
   },
   "source": [
    "```java\n",
    "@Component\n",
    "class Set implements Function<KeyValue, String> {\n",
    "\tprivate final StringRedisTemplate redisTemplate;\n",
    "\tpublic ValueSet(StringRedisTemplate redisTemplate){\n",
    "\t\tthis.redisTemplate = redisTemplate;\n",
    "\t}\n",
    "\t@Override\n",
    "\tpublic String apply(KeyValue input) {\n",
    "\t\tredisTemplate.opsForValue().set(input.getKey(), input.getValue());\n",
    "\t\treturn \"OK\";\n",
    "\t}\n",
    "}\n",
    "```"
   ]
  },
  {
   "cell_type": "code",
   "execution_count": null,
   "metadata": {
    "slideshow": {
     "slide_type": "subslide"
    }
   },
   "outputs": [],
   "source": [
    "curl -H \"Content-Type: application/json\" localhost:8080/set -d '{\"key\":\"leapahead-string\",\"value\":\"Spring Cloud Function\"}'"
   ]
  },
  {
   "cell_type": "markdown",
   "metadata": {
    "slideshow": {
     "slide_type": "slide"
    }
   },
   "source": [
    "### String\n",
    "\n",
    "GET"
   ]
  },
  {
   "cell_type": "code",
   "execution_count": null,
   "metadata": {
    "slideshow": {
     "slide_type": "subslide"
    }
   },
   "outputs": [],
   "source": [
    "redis-cli get leapaheadkey"
   ]
  },
  {
   "cell_type": "markdown",
   "metadata": {
    "slideshow": {
     "slide_type": "subslide"
    }
   },
   "source": [
    "```java\n",
    "@Component\n",
    "class Get implements Function<String, String> {\n",
    "\tprivate final StringRedisTemplate redisTemplate;\n",
    "\tpublic ValueGet(StringRedisTemplate redisTemplate){\n",
    "\t\tthis.redisTemplate = redisTemplate;\n",
    "\t}\n",
    "\t@Override\n",
    "\tpublic String apply(String input) {\n",
    "\t\treturn redisTemplate.opsForValue().get(input);\n",
    "\t}\n",
    "}\n",
    "```"
   ]
  },
  {
   "cell_type": "code",
   "execution_count": null,
   "metadata": {},
   "outputs": [],
   "source": [
    "curl -H \"Content-Type: text/plain\" localhost:8080/get -d 'leapaheadkey'"
   ]
  },
  {
   "cell_type": "markdown",
   "metadata": {
    "slideshow": {
     "slide_type": "slide"
    }
   },
   "source": [
    "#### String : ValueOperations\n",
    "\n",
    "GETSET"
   ]
  },
  {
   "cell_type": "code",
   "execution_count": null,
   "metadata": {
    "slideshow": {
     "slide_type": "subslide"
    }
   },
   "outputs": [],
   "source": [
    "redis-cli set leapaheadkey leapaheadvalue\n",
    "redis-cli get leapaheadkey\n",
    "redis-cli getset leapaheadkey updatedvalue\n",
    "redis-cli getset leapaheadkey anotherupdatedvalue\n",
    "redis-cli get leapaheadkey"
   ]
  },
  {
   "cell_type": "markdown",
   "metadata": {
    "slideshow": {
     "slide_type": "subslide"
    }
   },
   "source": [
    "```java\n",
    "@Component\n",
    "class GetAndSet implements Function<KeyValue, String> {\n",
    "\tprivate final StringRedisTemplate redisTemplate;\n",
    "\tpublic GetAndSet(StringRedisTemplate redisTemplate){\n",
    "\t\tthis.redisTemplate = redisTemplate;\n",
    "\t}\n",
    "\t@Override\n",
    "\tpublic String apply(KeyValue input) {\n",
    "\t\treturn redisTemplate.opsForValue().getAndSet(input.getKey(), input.getValue());\n",
    "\t}\n",
    "}\n",
    "```"
   ]
  },
  {
   "cell_type": "code",
   "execution_count": null,
   "metadata": {
    "slideshow": {
     "slide_type": "subslide"
    }
   },
   "outputs": [],
   "source": [
    "curl -H \"Content-Type: application/json\" localhost:8080/set -d '{\"key\":\"leapahead-string\",\"value\":\"Spring Cloud Function\"}'\n",
    "echo ''\n",
    "curl -H \"Content-Type: application/json\" localhost:8080/getAndSet -d '{\"key\":\"leapahead-string\",\"value\":\"This is so cool!\"}'\n",
    "echo ''\n",
    "curl -H \"Content-Type: text/plain\" localhost:8080/get -d 'leapahead-string'"
   ]
  },
  {
   "cell_type": "code",
   "execution_count": null,
   "metadata": {},
   "outputs": [],
   "source": []
  }
 ],
 "metadata": {
  "celltoolbar": "Slideshow",
  "kernelspec": {
   "display_name": "Bash",
   "language": "bash",
   "name": "bash"
  },
  "language_info": {
   "codemirror_mode": "shell",
   "file_extension": ".sh",
   "mimetype": "text/x-sh",
   "name": "bash"
  },
  "rise": {
   "height": "100%",
   "overlay": "<div class='frame'><span class='helper'></span><img src='images/redis-icon.svg' height=200/></div>",
   "scroll": true,
   "slideNumber": false,
   "width": "100%"
  }
 },
 "nbformat": 4,
 "nbformat_minor": 4
}
